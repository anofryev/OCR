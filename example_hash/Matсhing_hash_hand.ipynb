{
 "cells": [
  {
   "cell_type": "markdown",
   "metadata": {},
   "source": [
    "### Адаптация поиска по хэш-функциям для рукописных текстов"
   ]
  },
  {
   "cell_type": "code",
   "execution_count": 1,
   "metadata": {
    "id": "a6znGAYr_lMg"
   },
   "outputs": [],
   "source": [
    "import cv2\n",
    "import numpy as np\n",
    "import pandas as pd\n",
    "from matplotlib import pyplot as plt\n",
    "import time\n",
    "import os\n",
    "from PIL import Image\n",
    "import imagehash\n",
    "pd.set_option('display.float_format', '{:.2f}'.format)"
   ]
  },
  {
   "cell_type": "code",
   "execution_count": 2,
   "metadata": {},
   "outputs": [],
   "source": [
    "def load_image(path, scale=100):\n",
    "    image = cv2.imread(path)\n",
    "    image = cv2.cvtColor(image, cv2.COLOR_BGR2RGB)\n",
    "    width  = int(image.shape[1] * scale/100)\n",
    "    height = int(image.shape[0] * scale/100)\n",
    "    image = cv2.resize(image, (width, height), interpolation = cv2.INTER_AREA)  \n",
    "    return image"
   ]
  },
  {
   "cell_type": "code",
   "execution_count": 3,
   "metadata": {},
   "outputs": [],
   "source": [
    "def preprocess_image(image):\n",
    "    tmp = cv2.cvtColor(image, cv2.COLOR_RGB2GRAY)\n",
    "    clahe = cv2.createCLAHE(clipLimit=2.0, tileGridSize=(8,8))\n",
    "    tmp = clahe.apply(tmp)\n",
    "    tmp = cv2.GaussianBlur(tmp,(7,7),0)\n",
    "    return tmp"
   ]
  },
  {
   "cell_type": "code",
   "execution_count": 4,
   "metadata": {},
   "outputs": [],
   "source": [
    "def detect_similar_hash(src, templates, metric=\"EUCL\", hash_size=16, dist=90):\n",
    "    if metric == 'EUCL' :\n",
    "        M = 0.0\n",
    "    elif metric == 'GEOM':\n",
    "        M = 1.0\n",
    "    elif metric == 'MIN':\n",
    "        M = float(\"inf\")\n",
    "\n",
    "    src = preprocess_image(src)\n",
    "    src = Image.fromarray(src)\n",
    "    # average_hash, phash, dhash, dhash_vertical, whash\n",
    "    hash_src = imagehash.average_hash(src.rotate(0), hash_size)\n",
    "\n",
    "    for template in templates:\n",
    "        template = preprocess_image(template)\n",
    "        template = Image.fromarray(template)\n",
    "        # average_hash, phash, dhash, dhash_vertical, whash\n",
    "        hash_template = imagehash.average_hash(template.rotate(0), hash_size)\n",
    "        diff = hash_src - hash_template\n",
    "        if metric == 'EUCL':\n",
    "            M += diff**2\n",
    "        elif metric == 'GEOM':\n",
    "            M *= diff\n",
    "        elif metric == 'MIN' :\n",
    "            if diff < M : M = diff\n",
    "    if metric == 'EUCL':\n",
    "        M = M**0.5\n",
    "    elif metric == 'GEOM':\n",
    "        M = M**(1.0/5)               \n",
    "    if M > dist : M = float(\"inf\")\n",
    "    return M"
   ]
  },
  {
   "cell_type": "code",
   "execution_count": 5,
   "metadata": {},
   "outputs": [],
   "source": [
    "def find_person(src_path, templates_paths, metric, hash_size, dist):\n",
    "    df = pd.DataFrame()\n",
    "    src = load_image(src_path)\n",
    "    for key in templates_paths:\n",
    "        templates = []\n",
    "        for root, _ , files in os.walk(templates_paths[key]):  \n",
    "            for filename in files:\n",
    "                tmp = load_image(root+\"\\\\\"+filename)\n",
    "                templates.append(tmp)\n",
    "        M = detect_similar_hash(src, templates, metric, hash_size, dist)\n",
    "        dct = dict(name=key, metric=M)\n",
    "        df = df.append(dct,ignore_index=True)\n",
    "    return df"
   ]
  },
  {
   "cell_type": "code",
   "execution_count": 6,
   "metadata": {
    "colab": {
     "base_uri": "https://localhost:8080/",
     "height": 1000
    },
    "id": "vRSpGZlWC67c",
    "outputId": "ece8e3dc-66e4-492a-b128-533b2e931042"
   },
   "outputs": [
    {
     "name": "stdout",
     "output_type": "stream",
     "text": [
      "        name  metric\n",
      "0    Ioannov  149.00\n",
      "1   Andreeva  173.00\n",
      "2  Georgieva  140.00\n",
      "3    Ivanova  190.00\n",
      "4   Nikitina  162.00\n",
      "\n",
      "10.878721475601196 seconds\n"
     ]
    },
    {
     "data": {
      "text/html": [
       "<div>\n",
       "<style scoped>\n",
       "    .dataframe tbody tr th:only-of-type {\n",
       "        vertical-align: middle;\n",
       "    }\n",
       "\n",
       "    .dataframe tbody tr th {\n",
       "        vertical-align: top;\n",
       "    }\n",
       "\n",
       "    .dataframe thead th {\n",
       "        text-align: right;\n",
       "    }\n",
       "</style>\n",
       "<table border=\"1\" class=\"dataframe\">\n",
       "  <thead>\n",
       "    <tr style=\"text-align: right;\">\n",
       "      <th></th>\n",
       "      <th>metric</th>\n",
       "      <th>name</th>\n",
       "    </tr>\n",
       "  </thead>\n",
       "  <tbody>\n",
       "    <tr>\n",
       "      <th>2</th>\n",
       "      <td>140.00</td>\n",
       "      <td>Georgieva</td>\n",
       "    </tr>\n",
       "  </tbody>\n",
       "</table>\n",
       "</div>"
      ],
      "text/plain": [
       "   metric       name\n",
       "2  140.00  Georgieva"
      ]
     },
     "execution_count": 6,
     "metadata": {},
     "output_type": "execute_result"
    }
   ],
   "source": [
    "templates_paths = dict()\n",
    "\n",
    "templates_paths[\"Ioannov\"]   = \"templates\\\\Ioannov\"\n",
    "templates_paths[\"Andreeva\"]  = \"templates\\\\Andreeva\"\n",
    "templates_paths[\"Georgieva\"] = \"templates\\\\Georgieva\"\n",
    "templates_paths[\"Ivanova\"]   = \"templates\\\\Ivanova\"\n",
    "templates_paths[\"Nikitina\"]  = \"templates\\\\Nikitina\"\n",
    "#src_path = [\"Andreeva.png\", \"Georgieva.png\", \"Ioannov.png\", \"Ivanova.png\", \"Nikitina.png\"]\n",
    "\n",
    "hash_size = 24\n",
    "dist = 500\n",
    "\n",
    "start_time = time.time()\n",
    "\n",
    "df = find_person(\"Georgieva.png\", templates_paths, \"MIN\", hash_size, dist)\n",
    "print(df[[\"name\",\"metric\"]])\n",
    "\n",
    "all_time = time.time() - start_time\n",
    "print(\"\\n%s seconds\" % all_time)\n",
    "\n",
    "df.loc[np.where(df[\"metric\"] == df[\"metric\"].min())]"
   ]
  },
  {
   "cell_type": "code",
   "execution_count": null,
   "metadata": {},
   "outputs": [],
   "source": []
  }
 ],
 "metadata": {
  "colab": {
   "authorship_tag": "ABX9TyMhr5plpJRvq9//miEjsgAZ",
   "include_colab_link": true,
   "name": "Template matching using OpenCV in Python .ipynb",
   "provenance": []
  },
  "kernelspec": {
   "display_name": "Python 3",
   "language": "python",
   "name": "python3"
  },
  "language_info": {
   "codemirror_mode": {
    "name": "ipython",
    "version": 3
   },
   "file_extension": ".py",
   "mimetype": "text/x-python",
   "name": "python",
   "nbconvert_exporter": "python",
   "pygments_lexer": "ipython3",
   "version": "3.8.8"
  }
 },
 "nbformat": 4,
 "nbformat_minor": 1
}
