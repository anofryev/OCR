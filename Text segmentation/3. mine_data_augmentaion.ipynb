{
 "cells": [
  {
   "cell_type": "code",
   "execution_count": 19,
   "metadata": {},
   "outputs": [],
   "source": [
    "import numpy as np\n",
    "import cv2\n",
    "import matplotlib.pyplot as plt\n",
    "import pytesseract\n",
    "import re\n",
    "import os\n",
    "\n",
    "from pytesseract import Output\n",
    "\n",
    "from keras.preprocessing.image import ImageDataGenerator"
   ]
  },
  {
   "cell_type": "code",
   "execution_count": 20,
   "metadata": {},
   "outputs": [],
   "source": [
    "AUGM_PATH = 'images_augmented'\n",
    "def plot_gray(image):\n",
    "    plt.figure(figsize=(16,10))\n",
    "    return plt.imshow(image, cmap='Greys_r')\n",
    "\n",
    "def plot_rgb(image):\n",
    "    plt.figure(figsize=(20,15))\n",
    "    return plt.imshow(cv2.cvtColor(image, cv2.COLOR_BGR2RGB))"
   ]
  },
  {
   "cell_type": "code",
   "execution_count": 21,
   "metadata": {},
   "outputs": [],
   "source": [
    "file_name = \"./images/1.jpg\"\n",
    "image = cv2.imread(file_name, cv2.IMREAD_GRAYSCALE) "
   ]
  },
  {
   "cell_type": "markdown",
   "metadata": {},
   "source": [
    "Техники, которые используются для аугментации:\n",
    "\n",
    "- Scaling\n",
    "- Translation\n",
    "- Rotation (at finer angles)\n",
    "- Flipping ?\n",
    "- Adding Salt and Pepper noise\n",
    "- Lighting condition\n",
    "- Perspective transform"
   ]
  },
  {
   "cell_type": "code",
   "execution_count": 22,
   "metadata": {},
   "outputs": [],
   "source": [
    "#Дата генератор для аугментации данных:\n",
    "gen=ImageDataGenerator(rotation_range=5,width_shift_range=0.1,\n",
    "                       height_shift_range=0.1,shear_range=0.15,\n",
    "                       zoom_range=0.1,channel_shift_range=10,horizontal_flip=False,vertical_flip=False,\n",
    "                       fill_mode='constant',cval=125)"
   ]
  },
  {
   "cell_type": "code",
   "execution_count": 23,
   "metadata": {},
   "outputs": [],
   "source": [
    "ImageDataGenerator?"
   ]
  },
  {
   "cell_type": "code",
   "execution_count": 24,
   "metadata": {},
   "outputs": [],
   "source": [
    "\n",
    "def plots(figsize,images,a,b):\n",
    "    fig=plt.figure(figsize=figsize)\n",
    "    for i in range(1,len(images)+1):\n",
    "        fig.add_subplot(a,b,i)\n",
    "        plt.imshow(images[i-1])\n",
    "    plt.show()\n",
    "               \n",
    "        \n",
    "def create_images(path,j_p,i,pri=None):\n",
    "    img_path=os.path.join(path,j_p[i])\n",
    "    image=np.expand_dims(cv2.imread(img_path),0)\n",
    "    aug_itter=gen.flow(image, save_to_dir=path, save_prefix='aug', save_format='jpeg')#,save_to_dir=path,save_prefix='aug',save_format='jpeg')\n",
    "    aug_images=[next(aug_itter)[0].astype(np.uint8) for i in range(10)]\n",
    "    if pri=='print':\n",
    "        plots((10,20),aug_images,5,2)\n",
    "    if pri == 'save':\n",
    "        for i, img in enumerate (aug_itter):\n",
    "            cv2.imwrite(f\"images_augmented/{i}.jpg\", img) # Сохраняем\n",
    "\n",
    "\n",
    "#takes-> path of directory, \n",
    "#        images_name_list, \n",
    "#        which image(i'th image),\n",
    "#       'print' if want to print images else empty with \"\"\n",
    "\n",
    "path_images ='./images_4_augment/'\n",
    "j_p=os.listdir(path_images)\n",
    "create_images(path_images,j_p,1)"
   ]
  },
  {
   "cell_type": "code",
   "execution_count": null,
   "metadata": {},
   "outputs": [],
   "source": [
    "cv2.imwrite(f\"{save_name}.png\", boxes)"
   ]
  },
  {
   "cell_type": "code",
   "execution_count": null,
   "metadata": {},
   "outputs": [],
   "source": []
  },
  {
   "cell_type": "code",
   "execution_count": null,
   "metadata": {},
   "outputs": [],
   "source": []
  }
 ],
 "metadata": {
  "kernelspec": {
   "display_name": "Python 3",
   "language": "python",
   "name": "python3"
  },
  "language_info": {
   "codemirror_mode": {
    "name": "ipython",
    "version": 3
   },
   "file_extension": ".py",
   "mimetype": "text/x-python",
   "name": "python",
   "nbconvert_exporter": "python",
   "pygments_lexer": "ipython3",
   "version": "3.8.5"
  }
 },
 "nbformat": 4,
 "nbformat_minor": 4
}
