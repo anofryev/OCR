{
 "cells": [
  {
   "cell_type": "code",
   "execution_count": 11,
   "id": "7dcb9f9b",
   "metadata": {},
   "outputs": [],
   "source": [
    "import pandas as pd\n",
    "import os\n",
    "import json"
   ]
  },
  {
   "cell_type": "code",
   "execution_count": 12,
   "id": "c5ca0911",
   "metadata": {},
   "outputs": [],
   "source": [
    "annotations_path = 'HKR_dataset/ann/'\n",
    "images_path = 'HKR_dataset/img/'\n",
    "annotations = os.listdir(annotations_path)"
   ]
  },
  {
   "cell_type": "code",
   "execution_count": 13,
   "id": "070b9941",
   "metadata": {},
   "outputs": [],
   "source": [
    "classes = {}\n",
    "classes_count = 0\n",
    "lst = []\n",
    "for annotation in annotations:\n",
    "    with open(annotations_path + annotation, 'r', encoding='utf-8') as f:\n",
    "        \n",
    "        content = json.load(f)\n",
    "        image_path = images_path + content['name'] + '.jpg'\n",
    "        class_name = content['description']\n",
    "        if class_name not in classes.keys():\n",
    "            classes[class_name] = classes_count\n",
    "            classes_count +=1\n",
    "        class_label = classes[class_name]\n",
    "        lst.append([class_name, image_path, class_label])\n",
    "cols = ['Name', 'Path', \"Class\"]\n",
    "data=pd.DataFrame(lst,columns=cols)"
   ]
  },
  {
   "cell_type": "code",
   "execution_count": null,
   "id": "42215ace",
   "metadata": {},
   "outputs": [],
   "source": []
  },
  {
   "cell_type": "code",
   "execution_count": 14,
   "id": "dbc1db1e",
   "metadata": {},
   "outputs": [
    {
     "name": "stderr",
     "output_type": "stream",
     "text": [
      "<ipython-input-14-3cc64b21a388>:5: SettingWithCopyWarning: \n",
      "A value is trying to be set on a copy of a slice from a DataFrame.\n",
      "Try using .loc[row_indexer,col_indexer] = value instead\n",
      "\n",
      "See the caveats in the documentation: https://pandas.pydata.org/pandas-docs/stable/user_guide/indexing.html#returning-a-view-versus-a-copy\n",
      "  aktau['Class'] = 1\n",
      "<ipython-input-14-3cc64b21a388>:16: SettingWithCopyWarning: \n",
      "A value is trying to be set on a copy of a slice from a DataFrame.\n",
      "Try using .loc[row_indexer,col_indexer] = value instead\n",
      "\n",
      "See the caveats in the documentation: https://pandas.pydata.org/pandas-docs/stable/user_guide/indexing.html#returning-a-view-versus-a-copy\n",
      "  kazahstan['Class'] = 0\n"
     ]
    }
   ],
   "source": [
    "#количество экземпляров класса по количеству:\n",
    "foo = list(data['Name'].value_counts()[1:10].index)\n",
    "\n",
    "aktau = data.loc[data['Name'] == 'Актау']\n",
    "aktau['Class'] = 1\n",
    "\n",
    "kazahstan = data.loc[data['Name'] == foo[0]]\n",
    "karagand = data.loc[data['Name'] == foo[1]]\n",
    "shikm = data.loc[data['Name'] == foo[2]]\n",
    "kokshe = data.loc[data['Name'] == foo[3]]\n",
    "karaga = data.loc[data['Name'] == foo[4]]\n",
    "almaa = data.loc[data['Name'] == foo[5]]\n",
    "astana = data.loc[data['Name'] == foo[6]]\n",
    "almatinskaya = data.loc[data['Name'] == foo[7]]\n",
    "atirau = data.loc[data['Name'] == foo[8]]\n",
    "kazahstan['Class'] = 0\n",
    "\n",
    "data1 = pd.concat([kazahstan, karagand, shikm, kokshe, karaga, almaa, astana, almatinskaya, atirau])\n",
    "\n",
    "data1['Class'] = 0\n",
    "\n",
    "data = pd.concat([aktau, kazahstan])"
   ]
  },
  {
   "cell_type": "code",
   "execution_count": 15,
   "id": "6134bc1b",
   "metadata": {},
   "outputs": [],
   "source": [
    "data.to_csv(\"aktau_vs_kazahstan.csv\", columns=cols)"
   ]
  },
  {
   "cell_type": "code",
   "execution_count": 9,
   "id": "7d96885a",
   "metadata": {},
   "outputs": [],
   "source": []
  },
  {
   "cell_type": "code",
   "execution_count": null,
   "id": "63a6b5d7",
   "metadata": {},
   "outputs": [],
   "source": []
  }
 ],
 "metadata": {
  "kernelspec": {
   "display_name": "Python 3",
   "language": "python",
   "name": "python3"
  },
  "language_info": {
   "codemirror_mode": {
    "name": "ipython",
    "version": 3
   },
   "file_extension": ".py",
   "mimetype": "text/x-python",
   "name": "python",
   "nbconvert_exporter": "python",
   "pygments_lexer": "ipython3",
   "version": "3.8.8"
  }
 },
 "nbformat": 4,
 "nbformat_minor": 5
}
