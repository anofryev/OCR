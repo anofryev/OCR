{
 "cells": [
  {
   "cell_type": "code",
   "execution_count": 2,
   "id": "18b39655",
   "metadata": {},
   "outputs": [],
   "source": [
    "import cv2\n",
    "import numpy as np\n",
    "import glob  # for read file from folder\n",
    "import time  # for estimate processing time(optional)\n",
    "import matplotlib.pyplot as plt"
   ]
  },
  {
   "cell_type": "code",
   "execution_count": null,
   "id": "d4032ab4",
   "metadata": {},
   "outputs": [],
   "source": []
  },
  {
   "cell_type": "code",
   "execution_count": 3,
   "id": "9b382435",
   "metadata": {},
   "outputs": [],
   "source": [
    "def load_all_image_from_path(path, template):\n",
    "    image_list = []\n",
    "    for filename in glob.glob(path):\n",
    "        # load image in gray scale\n",
    "        print(filename)\n",
    "        RESCALE_WIDTH_SIZE = template.shape[1]\n",
    "        im = cv2.imread(filename, cv2.IMREAD_GRAYSCALE)\n",
    "        \n",
    "        origin_sheet_width = im.shape[1]\n",
    "        scale_factor = RESCALE_WIDTH_SIZE / origin_sheet_width\n",
    "        width  = int(im.shape[1] * scale_factor)\n",
    "        height = int(im.shape[0] * scale_factor)\n",
    "        im = cv2.resize(im, (width, height), interpolation=cv2.INTER_AREA)\n",
    "        image_list.append(im)\n",
    "    return image_list\n",
    "\n",
    "def plot_gray(image):\n",
    "    plt.figure(figsize=(20,15))\n",
    "    return plt.imshow(image, cmap='Greys_r')"
   ]
  },
  {
   "cell_type": "code",
   "execution_count": 4,
   "id": "a7b4e3f2",
   "metadata": {},
   "outputs": [
    {
     "ename": "NameError",
     "evalue": "name 'image_query' is not defined",
     "output_type": "error",
     "traceback": [
      "\u001b[0;31m---------------------------------------------------------------------------\u001b[0m",
      "\u001b[0;31mNameError\u001b[0m                                 Traceback (most recent call last)",
      "\u001b[0;32m<ipython-input-4-54828866210d>\u001b[0m in \u001b[0;36m<module>\u001b[0;34m\u001b[0m\n\u001b[1;32m      1\u001b[0m \u001b[0mtemplate\u001b[0m \u001b[0;34m=\u001b[0m \u001b[0mcv2\u001b[0m\u001b[0;34m.\u001b[0m\u001b[0mimread\u001b[0m\u001b[0;34m(\u001b[0m\u001b[0;34m'template.png'\u001b[0m\u001b[0;34m,\u001b[0m \u001b[0mcv2\u001b[0m\u001b[0;34m.\u001b[0m\u001b[0mIMREAD_GRAYSCALE\u001b[0m\u001b[0;34m)\u001b[0m\u001b[0;34m\u001b[0m\u001b[0;34m\u001b[0m\u001b[0m\n\u001b[1;32m      2\u001b[0m \u001b[0mtrain_image_list\u001b[0m \u001b[0;34m=\u001b[0m \u001b[0mload_all_image_from_path\u001b[0m\u001b[0;34m(\u001b[0m\u001b[0;34m\"templates/*\"\u001b[0m\u001b[0;34m,\u001b[0m \u001b[0mtemplate\u001b[0m\u001b[0;34m)\u001b[0m\u001b[0;34m\u001b[0m\u001b[0;34m\u001b[0m\u001b[0m\n\u001b[0;32m----> 3\u001b[0;31m \u001b[0mprint\u001b[0m\u001b[0;34m(\u001b[0m\u001b[0mimage_query\u001b[0m\u001b[0;34m.\u001b[0m\u001b[0mshape\u001b[0m\u001b[0;34m)\u001b[0m\u001b[0;34m\u001b[0m\u001b[0;34m\u001b[0m\u001b[0m\n\u001b[0m\u001b[1;32m      4\u001b[0m \u001b[0mplot_gray\u001b[0m\u001b[0;34m(\u001b[0m\u001b[0mimage_query\u001b[0m\u001b[0;34m)\u001b[0m\u001b[0;34m\u001b[0m\u001b[0;34m\u001b[0m\u001b[0m\n",
      "\u001b[0;31mNameError\u001b[0m: name 'image_query' is not defined"
     ]
    }
   ],
   "source": [
    "template = cv2.imread('template.png', cv2.IMREAD_GRAYSCALE)\n",
    "train_image_list = load_all_image_from_path(\"templates/*\", template)\n",
    "print(image_query.shape)\n",
    "plot_gray(image_query)"
   ]
  },
  {
   "cell_type": "code",
   "execution_count": 53,
   "id": "59d81374",
   "metadata": {},
   "outputs": [],
   "source": []
  },
  {
   "cell_type": "code",
   "execution_count": 1,
   "id": "130c6211",
   "metadata": {},
   "outputs": [
    {
     "ename": "NameError",
     "evalue": "name 'cv2' is not defined",
     "output_type": "error",
     "traceback": [
      "\u001b[0;31m---------------------------------------------------------------------------\u001b[0m",
      "\u001b[0;31mNameError\u001b[0m                                 Traceback (most recent call last)",
      "\u001b[0;32m<ipython-input-1-e487c8d075d3>\u001b[0m in \u001b[0;36m<module>\u001b[0;34m\u001b[0m\n\u001b[0;32m----> 1\u001b[0;31m \u001b[0morb\u001b[0m \u001b[0;34m=\u001b[0m \u001b[0mcv2\u001b[0m\u001b[0;34m.\u001b[0m\u001b[0mORB_create\u001b[0m\u001b[0;34m(\u001b[0m\u001b[0;34m)\u001b[0m  \u001b[0;31m# default features is 500\u001b[0m\u001b[0;34m\u001b[0m\u001b[0;34m\u001b[0m\u001b[0m\n\u001b[0m\u001b[1;32m      2\u001b[0m \u001b[0mresultimg_list\u001b[0m \u001b[0;34m=\u001b[0m \u001b[0;34m[\u001b[0m\u001b[0;34m]\u001b[0m\u001b[0;34m\u001b[0m\u001b[0;34m\u001b[0m\u001b[0m\n\u001b[1;32m      3\u001b[0m \u001b[0;32mfor\u001b[0m \u001b[0mimage_train\u001b[0m \u001b[0;32min\u001b[0m \u001b[0mtrain_image_list\u001b[0m\u001b[0;34m:\u001b[0m\u001b[0;34m\u001b[0m\u001b[0;34m\u001b[0m\u001b[0m\n\u001b[1;32m      4\u001b[0m     \u001b[0;31m# find key point and descriptor\u001b[0m\u001b[0;34m\u001b[0m\u001b[0;34m\u001b[0m\u001b[0;34m\u001b[0m\u001b[0m\n\u001b[1;32m      5\u001b[0m     \u001b[0mkp_template\u001b[0m\u001b[0;34m,\u001b[0m \u001b[0mdes_template\u001b[0m \u001b[0;34m=\u001b[0m \u001b[0morb\u001b[0m\u001b[0;34m.\u001b[0m\u001b[0mdetectAndCompute\u001b[0m\u001b[0;34m(\u001b[0m\u001b[0mimage_train\u001b[0m\u001b[0;34m,\u001b[0m \u001b[0;32mNone\u001b[0m\u001b[0;34m)\u001b[0m\u001b[0;34m\u001b[0m\u001b[0;34m\u001b[0m\u001b[0m\n",
      "\u001b[0;31mNameError\u001b[0m: name 'cv2' is not defined"
     ]
    }
   ],
   "source": [
    "orb = cv2.ORB_create()  # default features is 500\n",
    "resultimg_list = []\n",
    "for image_train in train_image_list:\n",
    "    # find key point and descriptor\n",
    "    kp_template, des_template = orb.detectAndCompute(image_train, None)\n",
    "    kp_img, des_img = orb.detectAndCompute(image_query, None)\n",
    "    result_image_train = cv2.drawKeypoints(image_train, kp_template, None, flags=0)\n",
    "    result_image_query = cv2.drawKeypoints(image_query, kp_img, None, flags=0)\n",
    "    # cv2.imshow(\"train image\",result_image_train)\n",
    "    # cv2.imshow(\"query image\",result_image_query)\n",
    "    # cv2.waitKey(0)\n",
    "\n",
    "    # create BFMatcher object\n",
    "    bf = cv2.BFMatcher(cv2.NORM_HAMMING, crossCheck=True)\n",
    "    # Match descriptors.\n",
    "    matches = bf.match(des_template,des_img)\n",
    "    # Sort them in the order of their distance.\n",
    "    matches = sorted(matches, key = lambda x:x.distance)\n",
    "    # Draw first 10 matches.\n",
    "    # img3 = cv2.drawMatches(image_train, kp_template, image_query, kp_img,matches[:1000],None,flags=cv2.DrawMatchesFlags_NOT_DRAW_SINGLE_POINTS)\n",
    "    img3 = cv2.drawMatches(result_image_train, kp_template, result_image_query, kp_img,matches[:1000],None,flags=cv2.DrawMatchesFlags_NOT_DRAW_SINGLE_POINTS)\n",
    "    \n",
    "    #resultimg_list.append(img3)\n",
    "    cv2.imshow(\"showme\",img3)\n",
    "    cv2.waitKey(0)\n",
    "    cv2.destroyAllWindows() \n",
    "    "
   ]
  },
  {
   "cell_type": "code",
   "execution_count": 46,
   "id": "c67b5834",
   "metadata": {},
   "outputs": [
    {
     "data": {
      "text/plain": [
       "0"
      ]
     },
     "execution_count": 46,
     "metadata": {},
     "output_type": "execute_result"
    }
   ],
   "source": [
    "len(resultimg_list)"
   ]
  },
  {
   "cell_type": "code",
   "execution_count": 9,
   "id": "64e73ad2",
   "metadata": {},
   "outputs": [],
   "source": []
  },
  {
   "cell_type": "code",
   "execution_count": 11,
   "id": "148a510b",
   "metadata": {},
   "outputs": [
    {
     "name": "stdout",
     "output_type": "stream",
     "text": [
      "images/ГАТО_93_4_64_0639_2_0640_1.jpg\n",
      "images/ГАТО_93_4_64_0645_2_0646_1.jpg\n",
      "images/ГАТО_93_4_64_0635_2_0636_1.jpg\n",
      "images/ГАТО_93_4_64_0646_2_0647_1.jpg\n",
      "images/ГАТО_93_4_64_0627_2_0628_1.jpg\n",
      "images/ГАТО_93_4_64_0640_2_0641_1.jpg\n",
      "images/image.jpg\n",
      "images/templates\n",
      "images/ГАТО_93_4_64_0642_2_0643_1.jpg\n",
      "images/ГАТО_93_4_64_0636_2_0637_1.jpg\n",
      "images/ГАТО_93_4_64_0643_2_0644_1.jpg\n",
      "images/ГАТО_93_4_64_0641_2_0642_1.jpg\n",
      "images/ГАТО_93_4_64_0637_2_0638_1.jpg\n",
      "images/ГАТО_93_4_64_0626_2_0627_1.jpg\n",
      "images/template.png\n",
      "images/ГАТО_93_4_64_0638_2_0639_1.jpg\n",
      "images/ГАТО_93_4_64_0644_2_0645_1.jpg\n"
     ]
    }
   ],
   "source": []
  },
  {
   "cell_type": "code",
   "execution_count": null,
   "id": "d1535b6e",
   "metadata": {},
   "outputs": [],
   "source": []
  }
 ],
 "metadata": {
  "kernelspec": {
   "display_name": "Python 3",
   "language": "python",
   "name": "python3"
  },
  "language_info": {
   "codemirror_mode": {
    "name": "ipython",
    "version": 3
   },
   "file_extension": ".py",
   "mimetype": "text/x-python",
   "name": "python",
   "nbconvert_exporter": "python",
   "pygments_lexer": "ipython3",
   "version": "3.8.8"
  }
 },
 "nbformat": 4,
 "nbformat_minor": 5
}
