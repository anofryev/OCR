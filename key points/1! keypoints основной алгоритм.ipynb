{
 "cells": [
  {
   "cell_type": "code",
   "execution_count": 766,
   "id": "dc4ba4cf",
   "metadata": {},
   "outputs": [],
   "source": [
    "import cv2\n",
    "import numpy as np\n",
    "import os\n",
    "import pandas as pd\n",
    "\n",
    "import matplotlib.pyplot as plt\n",
    "from sklearn.cluster import MiniBatchKMeans\n",
    "from sklearn.neural_network import MLPClassifier\n",
    "from sklearn.model_selection import train_test_split\n",
    "from sklearn.metrics import precision_score\n",
    "import time\n",
    "\n",
    "import descriptors_getters\n",
    "\n",
    "SCALE_TO_HEIGHT = 100\n",
    "\n",
    "def plot_gray(image):\n",
    "    %matplotlib qt\n",
    "    plt.figure(figsize=(20,15))\n",
    "    return plt.imshow(image, cmap='Greys_r')\n",
    "\n",
    "def image_scale(image, scale_to_height=SCALE_TO_HEIGHT, double_height=False):\n",
    "    scale_factor = scale_to_height / image.shape[0]\n",
    "    width  = int(image.shape[1] * scale_factor)\n",
    "    height = int(image.shape[0] * scale_factor)\n",
    "    if double_height:\n",
    "        height = height*2\n",
    "    image = cv2.resize(image, (width, height), interpolation=cv2.INTER_AREA)\n",
    "    return image\n",
    "\n",
    "def preprocess(image, SCALE_TO_HEIGHT=100):\n",
    "    image = image_scale(image)\n",
    "    #image = cv2.medianBlur(image, 3)\n",
    "    #image = cv2.GaussianBlur(image, (3, 3), 0)\n",
    "    _, image = cv2.threshold(image,0, 255, cv2.THRESH_BINARY + cv2.THRESH_OTSU)\n",
    "    #image = canny_threshold(image)\n",
    "    return image\n"
   ]
  },
  {
   "cell_type": "code",
   "execution_count": null,
   "id": "70992bf1",
   "metadata": {},
   "outputs": [],
   "source": []
  },
  {
   "cell_type": "code",
   "execution_count": 767,
   "id": "d1e0dd09",
   "metadata": {},
   "outputs": [],
   "source": [
    "classes_list = ['василий', 'не_василий']\n",
    "cols = ['Name', 'Path', \"Class\"]"
   ]
  },
  {
   "cell_type": "code",
   "execution_count": 768,
   "id": "5ca573b3",
   "metadata": {},
   "outputs": [],
   "source": [
    "lst = []\n",
    "for i, class_name in enumerate(classes_list):\n",
    "    image_names = os. listdir('./samples/' + class_name)\n",
    "    for image_name in image_names:\n",
    "        image_path = './samples/' + class_name + '/'+ image_name\n",
    "        lst.append([class_name, image_path, i])\n",
    "        \n",
    "data=pd.DataFrame(lst,columns=cols)"
   ]
  },
  {
   "cell_type": "code",
   "execution_count": 769,
   "id": "2978b4cc",
   "metadata": {},
   "outputs": [],
   "source": [
    "y = data['Class']\n",
    "X = data.drop(['Class'], axis=1)\n",
    "X_train, X_test, y_train, y_test = train_test_split(X, y, test_size=0.33) #random_state=42\n",
    "start_time_all = time.time()"
   ]
  },
  {
   "cell_type": "code",
   "execution_count": 770,
   "id": "43d74cb1",
   "metadata": {},
   "outputs": [],
   "source": [
    "def get_descriptors(img):   \n",
    "    \n",
    "    return descriptors_getters.get_orb_descriptors(img)\n"
   ]
  },
  {
   "cell_type": "code",
   "execution_count": 771,
   "id": "e8beaf48",
   "metadata": {},
   "outputs": [],
   "source": [
    "dico = []\n",
    "for path in X_train['Path']:\n",
    "    img = cv2.imread(path, 0)\n",
    "    img = preprocess(img)\n",
    "\n",
    "    kp, des = get_descriptors(img)\n",
    "    \n",
    "    for d in des:\n",
    "        dico.append(d)"
   ]
  },
  {
   "cell_type": "code",
   "execution_count": null,
   "id": "7f18c16a",
   "metadata": {},
   "outputs": [],
   "source": []
  },
  {
   "cell_type": "code",
   "execution_count": 772,
   "id": "95a5c4dd",
   "metadata": {},
   "outputs": [],
   "source": [
    "k = 100\n",
    "#batch_size = np.size(image_names) * 3\n",
    "batch_size = 64\n",
    "kmeans = MiniBatchKMeans(n_clusters=k, batch_size=batch_size, verbose=0, random_state=42).fit(dico)#random_state=42"
   ]
  },
  {
   "cell_type": "code",
   "execution_count": 773,
   "id": "fd1b5347",
   "metadata": {},
   "outputs": [],
   "source": [
    "kmeans.verbose = False\n",
    "\n",
    "histo_list = []\n",
    "\n",
    "for path in X_train['Path']:\n",
    "    img = cv2.imread(path,0)\n",
    "    img = preprocess(img)\n",
    "    # find the keypoints with STAR\n",
    "    # compute the descriptors with BRIEF\n",
    "    kp, des = get_descriptors(img)\n",
    "    histo = np.zeros(k)\n",
    "    nkp = np.size(kp)    \n",
    "    if des is not None:\n",
    "        for d in des:\n",
    "\n",
    "            idx = kmeans.predict([d])\n",
    "            histo[idx] += 1/nkp \n",
    "\n",
    "    histo_list.append(histo)"
   ]
  },
  {
   "cell_type": "code",
   "execution_count": 774,
   "id": "f606244c",
   "metadata": {},
   "outputs": [
    {
     "data": {
      "text/plain": [
       "MLPClassifier(max_iter=600000, random_state=42)"
      ]
     },
     "execution_count": 774,
     "metadata": {},
     "output_type": "execute_result"
    }
   ],
   "source": [
    "X = np.array(histo_list)\n",
    "Y = y_train\n",
    "\n",
    "mlp = MLPClassifier(verbose=False, max_iter=600000, random_state=42) #random_state=42\n",
    "mlp.fit(X, Y)"
   ]
  },
  {
   "cell_type": "code",
   "execution_count": 775,
   "id": "01fe90c2",
   "metadata": {},
   "outputs": [
    {
     "name": "stdout",
     "output_type": "stream",
     "text": [
      "Время предсказания: 0.8285980224609375\n"
     ]
    }
   ],
   "source": [
    "#test = pd.read_csv('../input/test.csv')\n",
    "\n",
    "#result_file = open(\"sift.csv\", \"w\")\n",
    "#result_file_obj = csv.writer(result_file)\n",
    "#result_file_obj.writerow(np.append(\"id\", species))\n",
    "start_time_predict = time.time()\n",
    "y_pred = []\n",
    "for i, path in enumerate(X_test['Path']):\n",
    "    img = cv2.imread(path,0)\n",
    "    img = preprocess(img)\n",
    "    #print(img.shape)   \n",
    "    kp, des = get_descriptors(img)    \n",
    "    x = np.zeros(k)\n",
    "    nkp = np.size(kp)\n",
    "        \n",
    "    if des is not None:\n",
    "        for d in des:\n",
    "            idx = kmeans.predict([d])\n",
    "            x[idx] += 1/nkp\n",
    "    res = mlp.predict_proba([x])[0][1]\n",
    "    row = []\n",
    "    #for e in res[0]:\n",
    "        #row.append(e)\n",
    "    y_pred.append(round(res))\n",
    "    #result_file_obj.writerow(row)\n",
    "\n",
    "score = precision_score(y_test.values, y_pred)\n",
    "#result_file.close()\n",
    "\n",
    "print('Время предсказания: {}'.format(time.time() - start_time_predict))"
   ]
  },
  {
   "cell_type": "code",
   "execution_count": 776,
   "id": "068369ef",
   "metadata": {},
   "outputs": [
    {
     "data": {
      "text/plain": [
       "0.75"
      ]
     },
     "execution_count": 776,
     "metadata": {},
     "output_type": "execute_result"
    }
   ],
   "source": [
    "score"
   ]
  },
  {
   "cell_type": "code",
   "execution_count": 777,
   "id": "4c9ad16d",
   "metadata": {},
   "outputs": [
    {
     "name": "stdout",
     "output_type": "stream",
     "text": [
      "Время работы функции: 3.4451651573181152\n"
     ]
    }
   ],
   "source": [
    "print('Время работы функции: {}'.format(time.time() - start_time_all))"
   ]
  },
  {
   "cell_type": "code",
   "execution_count": null,
   "id": "a0d70973",
   "metadata": {},
   "outputs": [],
   "source": []
  },
  {
   "cell_type": "code",
   "execution_count": null,
   "id": "73f24e89",
   "metadata": {},
   "outputs": [],
   "source": []
  }
 ],
 "metadata": {
  "kernelspec": {
   "display_name": "Python 3",
   "language": "python",
   "name": "python3"
  },
  "language_info": {
   "codemirror_mode": {
    "name": "ipython",
    "version": 3
   },
   "file_extension": ".py",
   "mimetype": "text/x-python",
   "name": "python",
   "nbconvert_exporter": "python",
   "pygments_lexer": "ipython3",
   "version": "3.8.8"
  }
 },
 "nbformat": 4,
 "nbformat_minor": 5
}
