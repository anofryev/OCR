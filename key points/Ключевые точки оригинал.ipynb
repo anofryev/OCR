{
 "cells": [
  {
   "cell_type": "code",
   "execution_count": 197,
   "id": "18b39655",
   "metadata": {},
   "outputs": [],
   "source": [
    "import cv2\n",
    "import numpy as np\n",
    "import glob  # for read file from folder\n",
    "import time  # for estimate processing time(optio|nal)\n",
    "import matplotlib.pyplot as plt\n",
    "import imutils"
   ]
  },
  {
   "cell_type": "code",
   "execution_count": 198,
   "id": "d4032ab4",
   "metadata": {},
   "outputs": [],
   "source": [
    "SCALE_TO_HEIGHT = 70"
   ]
  },
  {
   "cell_type": "code",
   "execution_count": 207,
   "id": "9b382435",
   "metadata": {},
   "outputs": [],
   "source": [
    "def image_scale(image, scale_to_height=SCALE_TO_HEIGHT, double_height=False):\n",
    "    scale_factor = scale_to_height / image.shape[0]\n",
    "    width  = int(image.shape[1] * scale_factor)\n",
    "    height = int(image.shape[0] * scale_factor)\n",
    "    if double_height:\n",
    "        height = height*2\n",
    "    image = cv2.resize(image, (width, height), interpolation=cv2.INTER_AREA)\n",
    "    return image\n",
    "\n",
    "def preprocess(image, SCALE_TO_HEIGHT=100):\n",
    "    image = image_scale(image)\n",
    "    image = cv2.medianBlur(image, 3)\n",
    "    image = cv2.GaussianBlur(image, (3, 3), 0)\n",
    "    #_, image = cv2.threshold(image,0, 255, cv2.THRESH_BINARY + cv2.THRESH_OTSU)\n",
    "    #image = canny_threshold(image)\n",
    "    return image\n",
    "\n",
    "def load_all_image_from_path(path, rotate=False):\n",
    "    image_list = []\n",
    "    for filename in glob.glob(path):\n",
    "        # load image in gray scale\n",
    "        im = cv2.imread(filename, cv2.IMREAD_GRAYSCALE)\n",
    "        #print(\"before: \", im.shape)\n",
    "        im = preprocess(im)\n",
    "        #print(\"after: \", im.shape)\n",
    "        if rotate:\n",
    "            im = cv2.rotate(im, cv2.cv2.ROTATE_90_CLOCKWISE)\n",
    "        image_list.append(im)\n",
    "    return image_list\n",
    "\n",
    "def canny_threshold(image):\n",
    "    max_lowThreshold = 150\n",
    "    ratio = 15\n",
    "    kernel_size = 3\n",
    "    low_threshold = 6\n",
    "    img_blur = cv2.blur(image, (5,5))\n",
    "    detected_edges = cv2.Canny(img_blur, low_threshold, low_threshold*ratio, kernel_size)\n",
    "    mask = detected_edges != 0\n",
    "    dst = image * (mask[:,:].astype(image.dtype))\n",
    "    return dst\n",
    "\n",
    "def plot_gray(image):\n",
    "    %matplotlib qt\n",
    "    plt.figure(figsize=(20,15))\n",
    "    return plt.imshow(image, cmap='Greys_r')"
   ]
  },
  {
   "cell_type": "code",
   "execution_count": 208,
   "id": "a7b4e3f2",
   "metadata": {},
   "outputs": [],
   "source": [
    "image_query = cv2.imread('samples/николай/template4.jpg', cv2.IMREAD_GRAYSCALE)\n",
    "image_query = preprocess(image_query)\n",
    "image_query = cv2.rotate(image_query, cv2.cv2.ROTATE_90_CLOCKWISE)\n",
    "train_image_list = load_all_image_from_path(\"samples/николай/*\", rotate=True)"
   ]
  },
  {
   "cell_type": "code",
   "execution_count": 209,
   "id": "59d81374",
   "metadata": {},
   "outputs": [],
   "source": [
    "# create ORB dectector\n",
    "orb = cv2.ORB_create(patchSize=99)  # default features is 500\n",
    "#orb = cv2.ORB_create(edgeThreshold=15, patchSize=31, nlevels=8, fastThreshold=20, scaleFactor=1.2, WTA_K=2,scoreType=cv2.ORB_HARRIS_SCORE, firstLevel=0, nfeatures=500)\n"
   ]
  },
  {
   "cell_type": "code",
   "execution_count": 210,
   "id": "130c6211",
   "metadata": {},
   "outputs": [],
   "source": [
    "# loop into all train images.\n",
    "for image_train in train_image_list:\n",
    "    # find key point and descriptor\n",
    "    kp_template, des_template = orb.detectAndCompute(image_train, None)\n",
    "    kp_img, des_img = orb.detectAndCompute(image_query, None)\n",
    "    result_image_train = cv2.drawKeypoints(image_train, kp_template, None, flags=0)\n",
    "    result_image_query = cv2.drawKeypoints(image_query, kp_img, None, flags=0)\n",
    "    # cv2.imshow(\"train image\",result_image_train)\n",
    "    # cv2.imshow(\"query image\",result_image_query)\n",
    "    # cv2.waitKey(0)\n",
    "\n",
    "    # create BFMatcher object\n",
    "    bf = cv2.BFMatcher(cv2.NORM_HAMMING, crossCheck=True)\n",
    "    # Match descriptors.\n",
    "    matches = bf.match(des_template,des_img)\n",
    "    # Sort them in the order of their distance.\n",
    "    matches = sorted(matches, key = lambda x:x.distance)\n",
    "    # Draw first 10 matches.\n",
    "    # img3 = cv2.drawMatches(image_train, kp_template, image_query, kp_img,matches[:1000],None,flags=cv2.DrawMatchesFlags_NOT_DRAW_SINGLE_POINTS)\n",
    "    img3 = cv2.drawMatches(result_image_train, kp_template, result_image_query, kp_img,matches[:500],None,flags=cv2.DrawMatchesFlags_NOT_DRAW_SINGLE_POINTS)\n",
    "    img3 = image_scale(img3, scale_to_height=1000, double_height=False)\n",
    "    img3 = cv2.rotate(img3, cv2.cv2.ROTATE_90_COUNTERCLOCKWISE)\n",
    "    cv2.imshow(\"showme\",img3)\n",
    "    cv2.waitKey(0)\n",
    "    cv2.destroyAllWindows() \n",
    "    "
   ]
  },
  {
   "cell_type": "code",
   "execution_count": 151,
   "id": "c67b5834",
   "metadata": {},
   "outputs": [
    {
     "ename": "NameError",
     "evalue": "name 'resultimg_list' is not defined",
     "output_type": "error",
     "traceback": [
      "\u001b[0;31m---------------------------------------------------------------------------\u001b[0m",
      "\u001b[0;31mNameError\u001b[0m                                 Traceback (most recent call last)",
      "\u001b[0;32m<ipython-input-151-a4cd5adeccdc>\u001b[0m in \u001b[0;36m<module>\u001b[0;34m\u001b[0m\n\u001b[0;32m----> 1\u001b[0;31m \u001b[0mlen\u001b[0m\u001b[0;34m(\u001b[0m\u001b[0mresultimg_list\u001b[0m\u001b[0;34m)\u001b[0m\u001b[0;34m\u001b[0m\u001b[0;34m\u001b[0m\u001b[0m\n\u001b[0m",
      "\u001b[0;31mNameError\u001b[0m: name 'resultimg_list' is not defined"
     ]
    }
   ],
   "source": []
  },
  {
   "cell_type": "code",
   "execution_count": 152,
   "id": "64e73ad2",
   "metadata": {},
   "outputs": [],
   "source": [
    "cv2.ORB_create?"
   ]
  },
  {
   "cell_type": "code",
   "execution_count": 11,
   "id": "148a510b",
   "metadata": {},
   "outputs": [
    {
     "name": "stdout",
     "output_type": "stream",
     "text": [
      "images/ГАТО_93_4_64_0639_2_0640_1.jpg\n",
      "images/ГАТО_93_4_64_0645_2_0646_1.jpg\n",
      "images/ГАТО_93_4_64_0635_2_0636_1.jpg\n",
      "images/ГАТО_93_4_64_0646_2_0647_1.jpg\n",
      "images/ГАТО_93_4_64_0627_2_0628_1.jpg\n",
      "images/ГАТО_93_4_64_0640_2_0641_1.jpg\n",
      "images/image.jpg\n",
      "images/templates\n",
      "images/ГАТО_93_4_64_0642_2_0643_1.jpg\n",
      "images/ГАТО_93_4_64_0636_2_0637_1.jpg\n",
      "images/ГАТО_93_4_64_0643_2_0644_1.jpg\n",
      "images/ГАТО_93_4_64_0641_2_0642_1.jpg\n",
      "images/ГАТО_93_4_64_0637_2_0638_1.jpg\n",
      "images/ГАТО_93_4_64_0626_2_0627_1.jpg\n",
      "images/template.png\n",
      "images/ГАТО_93_4_64_0638_2_0639_1.jpg\n",
      "images/ГАТО_93_4_64_0644_2_0645_1.jpg\n"
     ]
    }
   ],
   "source": []
  },
  {
   "cell_type": "code",
   "execution_count": null,
   "id": "d1535b6e",
   "metadata": {},
   "outputs": [],
   "source": []
  }
 ],
 "metadata": {
  "kernelspec": {
   "display_name": "Python 3",
   "language": "python",
   "name": "python3"
  },
  "language_info": {
   "codemirror_mode": {
    "name": "ipython",
    "version": 3
   },
   "file_extension": ".py",
   "mimetype": "text/x-python",
   "name": "python",
   "nbconvert_exporter": "python",
   "pygments_lexer": "ipython3",
   "version": "3.8.8"
  }
 },
 "nbformat": 4,
 "nbformat_minor": 5
}
