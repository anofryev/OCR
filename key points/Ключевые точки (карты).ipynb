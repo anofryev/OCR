{
 "cells": [
  {
   "cell_type": "code",
   "execution_count": 1,
   "id": "728fa492",
   "metadata": {},
   "outputs": [],
   "source": [
    "import cv2\n",
    "import numpy as np\n",
    "import glob  # for read file from folder\n",
    "import time  # for estimate processing time(optional)\n",
    "import matplotlib.pyplot as plt"
   ]
  },
  {
   "cell_type": "code",
   "execution_count": 2,
   "id": "cb3d5d6e",
   "metadata": {},
   "outputs": [],
   "source": [
    "def plot_gray(image):\n",
    "    plt.figure(figsize=(20,15))\n",
    "    return plt.imshow(image, cmap='Greys_r')"
   ]
  },
  {
   "cell_type": "code",
   "execution_count": 6,
   "id": "35d3cf0f",
   "metadata": {},
   "outputs": [],
   "source": [
    "def find_features(img1):\n",
    "    correct_matches_dct = {}\n",
    "    directory = 'images/cards/sample/'\n",
    "    for image in os.listdir(directory):\n",
    "        img2 = cv2.imread(directory+image, 0)\n",
    "        orb = cv2.ORB_create()\n",
    "        kp1, des1 = orb.detectAndCompute(img1, None)\n",
    "        kp2, des2 = orb.detectAndCompute(img2, None)\n",
    "        bf = cv2.BFMatcher()\n",
    "        matches = bf.knnMatch(des1, des2, k=2)\n",
    "        correct_matches = []\n",
    "        for m, n in matches:\n",
    "            if m.distance < 0.75*n.distance:\n",
    "                correct_matches.append([m])\n",
    "                correct_matches_dct[image.split('.')[0]]= len(correct_matches)\n",
    "    correct_matches_dct = dict(sorted(correct_matches_dct.items(),\n",
    "                                     key=lambda item: item[1],\n",
    "                                     reverse=True))\n",
    "    return list(correct_matches_dct.keys())[0]"
   ]
  },
  {
   "cell_type": "code",
   "execution_count": null,
   "id": "eedeb2f7",
   "metadata": {},
   "outputs": [],
   "source": []
  },
  {
   "cell_type": "code",
   "execution_count": null,
   "id": "43cb9dd3",
   "metadata": {},
   "outputs": [],
   "source": []
  },
  {
   "cell_type": "code",
   "execution_count": null,
   "id": "4dc0e2a8",
   "metadata": {},
   "outputs": [],
   "source": []
  },
  {
   "cell_type": "code",
   "execution_count": null,
   "id": "165f322a",
   "metadata": {},
   "outputs": [],
   "source": []
  }
 ],
 "metadata": {
  "kernelspec": {
   "display_name": "Python 3",
   "language": "python",
   "name": "python3"
  },
  "language_info": {
   "codemirror_mode": {
    "name": "ipython",
    "version": 3
   },
   "file_extension": ".py",
   "mimetype": "text/x-python",
   "name": "python",
   "nbconvert_exporter": "python",
   "pygments_lexer": "ipython3",
   "version": "3.8.8"
  }
 },
 "nbformat": 4,
 "nbformat_minor": 5
}
