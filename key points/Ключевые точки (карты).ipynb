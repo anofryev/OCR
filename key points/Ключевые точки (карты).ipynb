{
 "cells": [
  {
   "cell_type": "code",
   "execution_count": 26,
   "id": "728fa492",
   "metadata": {},
   "outputs": [],
   "source": [
    "import cv2\n",
    "import numpy as np\n",
    "import glob  # for read file from folder\n",
    "import time  # for estimate processing time(optional)\n",
    "import matplotlib.pyplot as plt\n",
    "import os"
   ]
  },
  {
   "cell_type": "code",
   "execution_count": 33,
   "id": "d530acc1",
   "metadata": {},
   "outputs": [],
   "source": [
    "SCALE_TO_HEIGHT = 60.0\n",
    "\n",
    "def preprocess(image):\n",
    "    scale_factor = SCALE_TO_HEIGHT / image.shape[0]\n",
    "    width  = int(image.shape[1] * scale_factor)\n",
    "    height = int(image.shape[0] * scale_factor)\n",
    "    image = cv2.resize(image, (width, height), interpolation=cv2.INTER_AREA)\n",
    "    image = cv2.medianBlur(image, 5)\n",
    "    _, image = cv2.threshold(image,0, 255, cv2.THRESH_BINARY + cv2.THRESH_OTSU)\n",
    "    return image, scale_factor\n",
    "    \n",
    "\n",
    "def plot_gray(image):\n",
    "    %matplotlib qt\n",
    "    plt.figure(figsize=(20,15))\n",
    "    return plt.imshow(image, cmap='Greys_r')\n",
    "\n",
    "def find_features(main_image):\n",
    "    correct_matches_dct = {}\n",
    "    directory = 'samples/'\n",
    "    for sample_image_name in os.listdir(directory):\n",
    "        sample_image = cv2.imread(directory+sample_image_name, 0)\n",
    "        sample_image, sample_scale_factor = preprocess(sample_image)\n",
    "        orb = cv2.ORB_create()\n",
    "        kp1, des1 = orb.detectAndCompute(main_image, None)\n",
    "        kp2, des2 = orb.detectAndCompute(sample_image, None)\n",
    "        bf = cv2.BFMatcher()\n",
    "        matches = bf.knnMatch(des1, des2, k=2)\n",
    "        correct_matches = []\n",
    "        for m, n in matches:\n",
    "            if m.distance < 0.75*n.distance:\n",
    "                correct_matches.append([m])\n",
    "                correct_matches_dct[sample_image_name.split('.')[0]]= len(correct_matches)\n",
    "    correct_matches_dct = dict(sorted(correct_matches_dct.items(),\n",
    "                                     key=lambda item: item[1],\n",
    "                                     reverse=True))\n",
    "    result = list(correct_matches_dct.keys())[0]\n",
    "    print(result)\n",
    "    return result"
   ]
  },
  {
   "cell_type": "code",
   "execution_count": 34,
   "id": "cb3d5d6e",
   "metadata": {},
   "outputs": [],
   "source": [
    "main_image = cv2.imread('template5.jpg', 0)\n",
    "main_image_processed, main_image_scale_factor = preprocess(main_image)"
   ]
  },
  {
   "cell_type": "code",
   "execution_count": 35,
   "id": "35d3cf0f",
   "metadata": {},
   "outputs": [
    {
     "ename": "IndexError",
     "evalue": "list index out of range",
     "output_type": "error",
     "traceback": [
      "\u001b[0;31m---------------------------------------------------------------------------\u001b[0m",
      "\u001b[0;31mIndexError\u001b[0m                                Traceback (most recent call last)",
      "\u001b[0;32m<ipython-input-35-1bae7cea7d0f>\u001b[0m in \u001b[0;36m<module>\u001b[0;34m\u001b[0m\n\u001b[0;32m----> 1\u001b[0;31m \u001b[0mfeatures\u001b[0m \u001b[0;34m=\u001b[0m \u001b[0mfind_features\u001b[0m\u001b[0;34m(\u001b[0m\u001b[0mmain_image_processed\u001b[0m\u001b[0;34m)\u001b[0m\u001b[0;34m\u001b[0m\u001b[0;34m\u001b[0m\u001b[0m\n\u001b[0m",
      "\u001b[0;32m<ipython-input-33-0c2260073792>\u001b[0m in \u001b[0;36mfind_features\u001b[0;34m(main_image)\u001b[0m\n\u001b[1;32m     35\u001b[0m                                      \u001b[0mkey\u001b[0m\u001b[0;34m=\u001b[0m\u001b[0;32mlambda\u001b[0m \u001b[0mitem\u001b[0m\u001b[0;34m:\u001b[0m \u001b[0mitem\u001b[0m\u001b[0;34m[\u001b[0m\u001b[0;36m1\u001b[0m\u001b[0;34m]\u001b[0m\u001b[0;34m,\u001b[0m\u001b[0;34m\u001b[0m\u001b[0;34m\u001b[0m\u001b[0m\n\u001b[1;32m     36\u001b[0m                                      reverse=True))\n\u001b[0;32m---> 37\u001b[0;31m     \u001b[0mresult\u001b[0m \u001b[0;34m=\u001b[0m \u001b[0mlist\u001b[0m\u001b[0;34m(\u001b[0m\u001b[0mcorrect_matches_dct\u001b[0m\u001b[0;34m.\u001b[0m\u001b[0mkeys\u001b[0m\u001b[0;34m(\u001b[0m\u001b[0;34m)\u001b[0m\u001b[0;34m)\u001b[0m\u001b[0;34m[\u001b[0m\u001b[0;36m0\u001b[0m\u001b[0;34m]\u001b[0m\u001b[0;34m\u001b[0m\u001b[0;34m\u001b[0m\u001b[0m\n\u001b[0m\u001b[1;32m     38\u001b[0m     \u001b[0mprint\u001b[0m\u001b[0;34m(\u001b[0m\u001b[0mresult\u001b[0m\u001b[0;34m)\u001b[0m\u001b[0;34m\u001b[0m\u001b[0;34m\u001b[0m\u001b[0m\n\u001b[1;32m     39\u001b[0m     \u001b[0;32mreturn\u001b[0m \u001b[0mresult\u001b[0m\u001b[0;34m\u001b[0m\u001b[0;34m\u001b[0m\u001b[0m\n",
      "\u001b[0;31mIndexError\u001b[0m: list index out of range"
     ]
    }
   ],
   "source": [
    "features = find_features(main_image_processed)"
   ]
  },
  {
   "cell_type": "code",
   "execution_count": 36,
   "id": "eedeb2f7",
   "metadata": {},
   "outputs": [
    {
     "name": "stdout",
     "output_type": "stream",
     "text": [
      "500 500\n"
     ]
    },
    {
     "data": {
      "text/plain": [
       "(<matplotlib.image.AxesImage at 0x7f3259860490>, None)"
      ]
     },
     "execution_count": 36,
     "metadata": {},
     "output_type": "execute_result"
    }
   ],
   "source": [
    "img = cv2.imread('image.jpg',0)\n",
    "# Initiate ORB detector\n",
    "orb = cv2.ORB_create()\n",
    "# find the keypoints with ORB\n",
    "kp = orb.detect(img,None)\n",
    "# compute the descriptors with ORB\n",
    "kp, des = orb.compute(img, kp)\n",
    "print(len(kp), len(des))\n",
    "# draw only keypoints location,not size and orientation\n",
    "img2 = cv2.drawKeypoints(img, kp, None, color=(0,255,0), flags=0)\n",
    "%matplotlib qt\n",
    "plt.imshow(img2), plt.show()"
   ]
  },
  {
   "cell_type": "code",
   "execution_count": null,
   "id": "43cb9dd3",
   "metadata": {},
   "outputs": [],
   "source": []
  },
  {
   "cell_type": "code",
   "execution_count": null,
   "id": "4dc0e2a8",
   "metadata": {},
   "outputs": [],
   "source": []
  },
  {
   "cell_type": "code",
   "execution_count": null,
   "id": "165f322a",
   "metadata": {},
   "outputs": [],
   "source": [
    "main_image = cv2.imread('template5.jpg')\n",
    "gray_main_image, _ = preprocess(main_image)\n",
    "contours = find_contours_of_cards(gray_main_image)\n",
    "cards_location = find_coordinates_of_cards(contours, gray_main_image)\n",
    "draw_rectangle_aroud_cards(cards_location, main_image)"
   ]
  }
 ],
 "metadata": {
  "kernelspec": {
   "display_name": "Python 3",
   "language": "python",
   "name": "python3"
  },
  "language_info": {
   "codemirror_mode": {
    "name": "ipython",
    "version": 3
   },
   "file_extension": ".py",
   "mimetype": "text/x-python",
   "name": "python",
   "nbconvert_exporter": "python",
   "pygments_lexer": "ipython3",
   "version": "3.8.8"
  }
 },
 "nbformat": 4,
 "nbformat_minor": 5
}
